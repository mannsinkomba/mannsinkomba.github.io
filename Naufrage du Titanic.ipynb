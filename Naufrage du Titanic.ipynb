{
 "cells": [
  {
   "cell_type": "markdown",
   "id": "0450f9cc-f41f-4ccc-be0d-5d27042fb750",
   "metadata": {},
   "source": [
    "### Prédiction de la survie au naufrage du Titanic - Modèle de classification supervisé"
   ]
  },
  {
   "cell_type": "markdown",
   "id": "94dd0f2c-664c-4a01-9459-e6f7997c3ef9",
   "metadata": {},
   "source": [
    "#### Contexte : \n",
    "Le naufrage du Titanic est l’un des accidents maritimes les plus célèbres de l’histoire. En 1912, ce paquebot réputé insubmersible coule lors de son voyage inaugural. Grâce aux données recueillies sur les passagers, il est possible d’explorer les facteurs ayant influencé les chances de survie."
   ]
  },
  {
   "cell_type": "markdown",
   "id": "58b69a48-10bf-4479-9324-47d3f034dcd9",
   "metadata": {},
   "source": [
    "#### Objectif : \n",
    "L'objectif de cette étude est de donstruire un modèle de classification supervisé permettant de prédire si un passager a survécu ou non, à partir des variables explicatives fournies.\n"
   ]
  },
  {
   "cell_type": "markdown",
   "id": "71bbf1ee-1f5b-4d0b-893f-f5bda163171c",
   "metadata": {},
   "source": [
    "#### Explication des variables\n",
    " • **Survived** : Variable cible (Survived = 1 → le passager a survécu, Survived = 0 → le passager n'a pas survecu)\\\n",
    " • **Pclass** : classe du billet (1 = 1ère, 2 = 2e, 3 = 3e),\\\n",
    " • **Name** : nom du passager,\\\n",
    " • **Sex** : sexe du passager,\\\n",
    " • **Age** : âge du passager,\\\n",
    " • **SibSp** : nombre de frères/soeurs ou conjoints à bord,\\\n",
    " • **Parch** : nombre de parents ou enfants à bord,\\\n",
    " • **Fare** : tarif du billet,\\\n",
    " • **Embarked** : port d’embarquement (C = Cherbourg, Q = Queenstown, S = Southamp\n",
    "ton)"
   ]
  },
  {
   "cell_type": "markdown",
   "id": "49e81569-b742-4a2c-862f-62821ef6e3ac",
   "metadata": {},
   "source": [
    "#### Bibliothèques utilisées"
   ]
  },
  {
   "cell_type": "code",
   "execution_count": 1,
   "id": "b3a30b90-a0c0-430d-82b3-7637f4fc5385",
   "metadata": {},
   "outputs": [],
   "source": [
    "import pandas as pd\n",
    "import numpy as np\n",
    "from sklearn.preprocessing import LabelEncoder\n",
    "import matplotlib.pyplot as plt\n",
    "import seaborn as sns\n",
    "from sklearn.model_selection import train_test_split\n",
    "from sklearn.ensemble import RandomForestClassifier\n",
    "from sklearn.metrics import confusion_matrix, accuracy_score, precision_score, recall_score\n",
    "from sklearn.linear_model import LogisticRegression\n",
    "from sklearn.tree import DecisionTreeClassifier\n",
    "from sklearn.metrics import accuracy_score\n",
    "from sklearn.impute import SimpleImputer\n"
   ]
  },
  {
   "cell_type": "markdown",
   "id": "101f7c9b",
   "metadata": {},
   "source": [
    "#### 1. Préparation des données"
   ]
  },
  {
   "cell_type": "markdown",
   "id": "416c04ab-8a8d-4a9b-9180-ce49a1feca9d",
   "metadata": {},
   "source": [
    "##### Importation des données "
   ]
  },
  {
   "cell_type": "code",
   "execution_count": 42,
   "id": "6747993f-cd82-4616-abf6-84e10279c97d",
   "metadata": {},
   "outputs": [],
   "source": [
    "file_path = 'C:/Users/LENOVO/OneDrive - ACTED/Documents/CYPRIEN_28_03_2025/Master/Apprentissage Statistique/DAR/titanic/titanic/train.csv'\n",
    "titanic = pd.read_csv(file_path)\n"
   ]
  },
  {
   "cell_type": "markdown",
   "id": "61bfb3df-eab4-4207-91a5-973157bfc82f",
   "metadata": {},
   "source": [
    "##### Vérifions l’existence de valeurs manquantes."
   ]
  },
  {
   "cell_type": "code",
   "execution_count": 4,
   "id": "9cb25571-bb6f-4aca-8e00-ec6631eb1601",
   "metadata": {
    "scrolled": true
   },
   "outputs": [
    {
     "data": {
      "text/plain": [
       "PassengerId      0\n",
       "Survived         0\n",
       "Pclass           0\n",
       "Name             0\n",
       "Sex              0\n",
       "Age            177\n",
       "SibSp            0\n",
       "Parch            0\n",
       "Ticket           0\n",
       "Fare             0\n",
       "Cabin          687\n",
       "Embarked         2\n",
       "dtype: int64"
      ]
     },
     "execution_count": 4,
     "metadata": {},
     "output_type": "execute_result"
    }
   ],
   "source": [
    "titanic.isnull().sum()"
   ]
  },
  {
   "cell_type": "markdown",
   "id": "7a86e84a-f6f7-4567-a8f7-ca0863f13494",
   "metadata": {},
   "source": [
    "##### Interprétation\n",
    "La variable \"Age\" contient 177 valeurs manquantes. La variable \"Cabin\" \n",
    "687 valeurs manquantes et la variable \"Embarked\" 2 valeurs manquantes.\n",
    "A la suite des analyses nous allons remplacés les valeurs manquantes de la variables \"Age\"\n",
    "par l'âge moyen des passagers\n"
   ]
  },
  {
   "cell_type": "markdown",
   "id": "298c7763-acf5-4861-932b-c129fa92b522",
   "metadata": {},
   "source": [
    "#### Fréquences des variables catégorielles"
   ]
  },
  {
   "cell_type": "code",
   "execution_count": 49,
   "id": "962a59d6-fd51-4fc7-9812-57f17ee15932",
   "metadata": {},
   "outputs": [
    {
     "name": "stdout",
     "output_type": "stream",
     "text": [
      "891\n",
      "Sex\n",
      "male      0.647587\n",
      "female    0.352413\n",
      "Name: proportion, dtype: float64\n",
      "\n",
      "Pclass\n",
      "3    0.551066\n",
      "1    0.242424\n",
      "2    0.206510\n",
      "Name: proportion, dtype: float64\n",
      "\n",
      "Embarked\n",
      "S    0.724409\n",
      "C    0.188976\n",
      "Q    0.086614\n",
      "Name: proportion, dtype: float64\n"
     ]
    }
   ],
   "source": [
    "print(len(titanic))\n",
    "print(titanic['Sex'].value_counts(normalize=True))\n",
    "print()\n",
    "print(titanic['Pclass'].value_counts(normalize=True))\n",
    "print()\n",
    "\n",
    "print(titanic['Embarked'].value_counts(normalize=True))"
   ]
  },
  {
   "cell_type": "markdown",
   "id": "6d9a46cb-61c4-4843-bf27-d795d23e1cc6",
   "metadata": {},
   "source": [
    "#### Interprétation\n",
    "La base de données contient 891 passagers dont 65% d'homme et 35% de femmes. \\\n",
    "55% des passagers ont le billet de la troisième classe, 24% le billet de la première classe et 21% ont le billet de la deuxième classe.\n",
    "72% des passagers sont embarqués au port de Southamp ton, 18% au port de Cherbourg et 9% au port de Queenstown"
   ]
  },
  {
   "cell_type": "markdown",
   "id": "0cc9f1b3-9634-4f62-abb2-79e7446fef45",
   "metadata": {},
   "source": [
    "##### Convertissons les variables qualitatives au bon format (facteurs)."
   ]
  },
  {
   "cell_type": "markdown",
   "id": "a2a21843-88d8-4718-a695-ed1ce6adccee",
   "metadata": {},
   "source": [
    "##### Affichons les types des variables"
   ]
  },
  {
   "cell_type": "code",
   "execution_count": 33,
   "id": "cd5fb020-401f-4d56-868a-8ed44425b701",
   "metadata": {},
   "outputs": [
    {
     "name": "stdout",
     "output_type": "stream",
     "text": [
      "PassengerId      int64\n",
      "Survived         int64\n",
      "Pclass           int64\n",
      "Name            object\n",
      "Sex             object\n",
      "Age            float64\n",
      "SibSp            int64\n",
      "Parch            int64\n",
      "Ticket          object\n",
      "Fare           float64\n",
      "Cabin           object\n",
      "Embarked        object\n",
      "dtype: object\n"
     ]
    }
   ],
   "source": [
    "print(titanic.dtypes)"
   ]
  },
  {
   "cell_type": "markdown",
   "id": "e9d6c352-6fb3-4fe0-857a-1df657f4b665",
   "metadata": {},
   "source": [
    "##### Conversions des variables Pclass, Sex et Embarked"
   ]
  },
  {
   "cell_type": "code",
   "execution_count": 38,
   "id": "b9754631-5308-4843-a731-15a1ca64aba6",
   "metadata": {},
   "outputs": [],
   "source": [
    "titanic['Pclass'] = titanic['Pclass'].astype('category')\n",
    "titanic['Embarked'] = titanic['Embarked'].map({'C':1,'Q':2,'S':3})\n",
    "titanic['Sex'] = titanic['Sex'].map({'male':1,'female':0}) # grâce à pandas"
   ]
  },
  {
   "cell_type": "markdown",
   "id": "ae047bf9-09cb-403d-90e6-c42154a143a8",
   "metadata": {},
   "source": [
    "##### Vérification des variables converties"
   ]
  },
  {
   "cell_type": "code",
   "execution_count": 7,
   "id": "337ee931-c662-4aa5-80e0-bd86528aedb0",
   "metadata": {},
   "outputs": [
    {
     "name": "stdout",
     "output_type": "stream",
     "text": [
      "PassengerId       int64\n",
      "Survived          int64\n",
      "Pclass         category\n",
      "Name             object\n",
      "Sex               int64\n",
      "Age             float64\n",
      "SibSp             int64\n",
      "Parch             int64\n",
      "Ticket           object\n",
      "Fare            float64\n",
      "Cabin            object\n",
      "Embarked        float64\n",
      "dtype: object\n"
     ]
    }
   ],
   "source": [
    "print(titanic.dtypes)"
   ]
  },
  {
   "cell_type": "markdown",
   "id": "6f96e3a8-cc17-43d9-9c59-302513398d62",
   "metadata": {},
   "source": [
    "##### Analyse des distributions et résumé statistique les variables clés\n",
    "##### Résumé statistiques"
   ]
  },
  {
   "cell_type": "code",
   "execution_count": 8,
   "id": "25e4b58e-d1eb-42cf-8a96-e672469e3038",
   "metadata": {},
   "outputs": [
    {
     "name": "stdout",
     "output_type": "stream",
     "text": [
      "       PassengerId    Survived         Sex         Age       SibSp  \\\n",
      "count   891.000000  891.000000  891.000000  714.000000  891.000000   \n",
      "mean    446.000000    0.383838    0.647587   29.699118    0.523008   \n",
      "std     257.353842    0.486592    0.477990   14.526497    1.102743   \n",
      "min       1.000000    0.000000    0.000000    0.420000    0.000000   \n",
      "25%     223.500000    0.000000    0.000000   20.125000    0.000000   \n",
      "50%     446.000000    0.000000    1.000000   28.000000    0.000000   \n",
      "75%     668.500000    1.000000    1.000000   38.000000    1.000000   \n",
      "max     891.000000    1.000000    1.000000   80.000000    8.000000   \n",
      "\n",
      "            Parch        Fare    Embarked  \n",
      "count  891.000000  891.000000  889.000000  \n",
      "mean     0.381594   32.204208    2.535433  \n",
      "std      0.806057   49.693429    0.792088  \n",
      "min      0.000000    0.000000    1.000000  \n",
      "25%      0.000000    7.910400    2.000000  \n",
      "50%      0.000000   14.454200    3.000000  \n",
      "75%      0.000000   31.000000    3.000000  \n",
      "max      6.000000  512.329200    3.000000  \n"
     ]
    }
   ],
   "source": [
    "print(titanic.describe())"
   ]
  },
  {
   "cell_type": "markdown",
   "id": "7ed8af5e-3fe0-41f7-82ba-61597590595b",
   "metadata": {},
   "source": [
    "#### Interprétation\n",
    "L'âge moyen des passagers est d'environ 30 ans (29,70 ans). Le prix moyen du billet est de 32,204 livre sterling."
   ]
  },
  {
   "cell_type": "markdown",
   "id": "0d039a48-190e-410b-ad29-2c4cf7ce2d58",
   "metadata": {},
   "source": [
    "##### Analyse des distributions : package matplotlib et Seaborn"
   ]
  },
  {
   "cell_type": "markdown",
   "id": "65e801c5-f2fc-440f-85a9-06cd633de9ce",
   "metadata": {},
   "source": [
    "###### Distribution de l'âge"
   ]
  },
  {
   "cell_type": "code",
   "execution_count": 9,
   "id": "127e3e8b-0a86-4829-9a24-dde33ac6f473",
   "metadata": {},
   "outputs": [
    {
     "data": {
      "text/plain": [
       "Text(0.5, 1.0, \"Distribution de l'âge\")"
      ]
     },
     "execution_count": 9,
     "metadata": {},
     "output_type": "execute_result"
    },
    {
     "data": {
      "image/png": "[encoded data removed]",
      "text/plain": [
       "<Figure size 640x480 with 1 Axes>"
      ]
     },
     "metadata": {},
     "output_type": "display_data"
    }
   ],
   "source": [
    "sns.histplot(titanic['Age'], kde=True)\n",
    "plt.title('Distribution de l\\'âge')"
   ]
  },
  {
   "cell_type": "markdown",
   "id": "753f1fb5-952e-4ea1-a1c9-5c3064374e54",
   "metadata": {},
   "source": [
    "###### Distribution des tarifs"
   ]
  },
  {
   "cell_type": "code",
   "execution_count": 177,
   "id": "8ee1413f-87aa-4d15-8ae5-150c24704c76",
   "metadata": {
    "scrolled": true
   },
   "outputs": [
    {
     "data": {
      "text/plain": [
       "Text(0.5, 1.0, 'Distribution des tarifs')"
      ]
     },
     "execution_count": 177,
     "metadata": {},
     "output_type": "execute_result"
    },
    {
     "data": {
      "image/png": "[encoded data removed]",
      "text/plain": [
       "<Figure size 640x480 with 1 Axes>"
      ]
     },
     "metadata": {},
     "output_type": "display_data"
    }
   ],
   "source": [
    "sns.histplot(titanic['Fare'], kde=True)\n",
    "plt.xlim(0,200)\n",
    "plt.ylim(0,350)\n",
    "plt.title('Distribution des tarifs')"
   ]
  },
  {
   "cell_type": "markdown",
   "id": "e8de7b3c",
   "metadata": {},
   "source": [
    "##### Interprétation\n",
    "Le graphique présenté montre la distribution des tarifs payés par les passagers du Titanic. Il s'agit d'un histogramme avec une courbe de densité superposée.\n",
    "L'histogramme de l'âge semble suivre une distribution normale.\n",
    "Les tarifs n'ont pas une distribution normale"
   ]
  },
  {
   "cell_type": "markdown",
   "id": "eff50e28-83cc-4307-942b-66f16df76198",
   "metadata": {},
   "source": [
    "#### 2 Exploration visuelle des données\n",
    "##### Distribution des survivants selon la classe du billet"
   ]
  },
  {
   "cell_type": "code",
   "execution_count": 10,
   "id": "ede72865-fb2b-44bf-b703-453776afae2e",
   "metadata": {},
   "outputs": [
    {
     "data": {
      "image/png": "[encoded data removed]",
      "text/plain": [
       "<Figure size 640x480 with 1 Axes>"
      ]
     },
     "metadata": {},
     "output_type": "display_data"
    }
   ],
   "source": [
    "sns.countplot(data=titanic, x='Pclass', hue='Survived')\n",
    "plt.title(\"Survie selon la classe\")\n",
    "plt.show()\n",
    "\n"
   ]
  },
  {
   "cell_type": "markdown",
   "id": "d20ef5e2",
   "metadata": {},
   "source": [
    "#### Interprétation\n",
    "Les passagers de 1ʳᵉ classe ont été favorisés tandis que les passagers de 3ᵉ classe ont été les plus touchés par le naufrage."
   ]
  },
  {
   "cell_type": "markdown",
   "id": "ea152607-9f89-4592-9541-714210df0ebf",
   "metadata": {},
   "source": [
    "#### Distribution des survivants selon le sexe"
   ]
  },
  {
   "cell_type": "code",
   "execution_count": 11,
   "id": "703810a8-af54-4b14-87ec-6a86decc77c0",
   "metadata": {},
   "outputs": [
    {
     "data": {
      "image/png": "[encoded data removed]",
      "text/plain": [
       "<Figure size 640x480 with 1 Axes>"
      ]
     },
     "metadata": {},
     "output_type": "display_data"
    }
   ],
   "source": [
    "sns.countplot(data=titanic, x='Sex', hue='Survived')\n",
    "plt.title(\"Survie selon le sexe\")\n",
    "plt.show()\n"
   ]
  },
  {
   "cell_type": "markdown",
   "id": "37b2d7e7",
   "metadata": {},
   "source": [
    "##### Interprétation\n",
    "Les femmes ont été largement favorisées, probablement à cause de la règle « les femmes et les enfants d’abord » appliquée lors de l’évacuation du Titanic."
   ]
  },
  {
   "cell_type": "markdown",
   "id": "0142b4d9-fc93-49d6-91d5-212514df92ba",
   "metadata": {},
   "source": [
    "##### Distribution des survivants selon l'âge"
   ]
  },
  {
   "cell_type": "code",
   "execution_count": 12,
   "id": "762a3a21-bf5e-489e-ac51-ada834b679bb",
   "metadata": {},
   "outputs": [
    {
     "data": {
      "image/png": "[encoded data removed]",
      "text/plain": [
       "<Figure size 640x480 with 1 Axes>"
      ]
     },
     "metadata": {},
     "output_type": "display_data"
    }
   ],
   "source": [
    "sns.histplot(data=titanic, x='Age', hue='Survived', bins=30, kde=True)\n",
    "plt.title(\"Distribution d'âge selon la survie\")\n",
    "plt.show()"
   ]
  },
  {
   "cell_type": "markdown",
   "id": "f98e3c65",
   "metadata": {},
   "source": [
    "##### Interprétation\n",
    "Le graphique présente la distribution des âges des passagers du Titanic selon leur statut de survie, en distinguant les individus décédés (Survived = 0, en bleu) des survivants (Survived = 1, en orange). Les données sont visualisées à l’aide d’histogrammes superposés accompagnés de courbes de densité pour chaque groupe."
   ]
  },
  {
   "cell_type": "markdown",
   "id": "8969bdab-cbce-402c-a5a1-7f3255e9ef00",
   "metadata": {},
   "source": [
    "##### Selection des variables "
   ]
  },
  {
   "cell_type": "code",
   "execution_count": 13,
   "id": "9d966ee0-2b91-4a6f-8c82-c17c1b49c490",
   "metadata": {},
   "outputs": [],
   "source": [
    "features = ['Pclass','Sex','Age','SibSp','Parch','Fare','Embarked']\n",
    "X = titanic[features]\n",
    "y = titanic['Survived'] # Target"
   ]
  },
  {
   "cell_type": "markdown",
   "id": "72d45f38-1d80-4ba5-a523-38aa60667195",
   "metadata": {},
   "source": [
    "##### b. Identifions les variables les plus corrélées à la survie"
   ]
  },
  {
   "cell_type": "code",
   "execution_count": 14,
   "id": "5b1c9ddf-1654-45eb-af18-04dd7339ed17",
   "metadata": {},
   "outputs": [
    {
     "data": {
      "text/plain": [
       "Text(0.5, 1.0, 'Matrice de corrélation')"
      ]
     },
     "execution_count": 14,
     "metadata": {},
     "output_type": "execute_result"
    },
    {
     "data": {
      "image/png": "[encoded data removed]",
      "text/plain": [
       "<Figure size 640x480 with 2 Axes>"
      ]
     },
     "metadata": {},
     "output_type": "display_data"
    }
   ],
   "source": [
    "corr_matrix = X.corr()\n",
    "sns.heatmap(corr_matrix, annot=True, cmap='coolwarm')\n",
    "plt.title('Matrice de corrélation')"
   ]
  },
  {
   "cell_type": "markdown",
   "id": "6aa6a2be",
   "metadata": {},
   "source": [
    "##### Interprétation:\n",
    "Le graphique présente une matrice de corrélation de Pearson entre différentes variables quantitatives et transformées du jeu de données Titanic. La matrice évalue l’intensité et le sens de la relation linéaire entre chaque paire de variables. Les coefficients de corrélation varient entre -1 (corrélation parfaitement négative) et +1 (corrélation parfaitement positive). Une échelle de couleur allant du bleu (corrélation négative) au rouge (corrélation positive) facilite la lecture visuelle."
   ]
  },
  {
   "cell_type": "markdown",
   "id": "791a1dab-537b-45a8-9dee-fd0ff97652ca",
   "metadata": {},
   "source": [
    "#### 3. Construction d’un modèle prédictif\n",
    "##### a. Séparons les données en un ensemble d'apprentissage et un ensemble de test"
   ]
  },
  {
   "cell_type": "code",
   "execution_count": 15,
   "id": "5114063d-c8e7-4ab0-bda3-297888739c64",
   "metadata": {},
   "outputs": [],
   "source": [
    "X_train, X_test, y_train, y_test = train_test_split(X, y, test_size=0.2, random_state=1)"
   ]
  },
  {
   "cell_type": "markdown",
   "id": "c624e9e2-3bdc-40c6-85fa-b6cb4123358b",
   "metadata": {},
   "source": [
    "##### b. Construire un modèle de classification (ex. : forêt aléatoire) \\\n",
    "##### construire le modèle "
   ]
  },
  {
   "cell_type": "code",
   "execution_count": 16,
   "id": "dd2c1e27-c510-4cdd-80a9-8c6aff206c0b",
   "metadata": {},
   "outputs": [
    {
     "data": {
      "text/html": [
       "<style>#sk-container-id-1 {\n",
       "  /* Definition of color scheme common for light and dark mode */\n",
       "  --sklearn-color-text: black;\n",
       "  --sklearn-color-line: gray;\n",
       "  /* Definition of color scheme for unfitted estimators */\n",
       "  --sklearn-color-unfitted-level-0: #fff5e6;\n",
       "  --sklearn-color-unfitted-level-1: #f6e4d2;\n",
       "  --sklearn-color-unfitted-level-2: #ffe0b3;\n",
       "  --sklearn-color-unfitted-level-3: chocolate;\n",
       "  /* Definition of color scheme for fitted estimators */\n",
       "  --sklearn-color-fitted-level-0: #f0f8ff;\n",
       "  --sklearn-color-fitted-level-1: #d4ebff;\n",
       "  --sklearn-color-fitted-level-2: #b3dbfd;\n",
       "  --sklearn-color-fitted-level-3: cornflowerblue;\n",
       "\n",
       "  /* Specific color for light theme */\n",
       "  --sklearn-color-text-on-default-background: var(--sg-text-color, var(--theme-code-foreground, var(--jp-content-font-color1, black)));\n",
       "  --sklearn-color-background: var(--sg-background-color, var(--theme-background, var(--jp-layout-color0, white)));\n",
       "  --sklearn-color-border-box: var(--sg-text-color, var(--theme-code-foreground, var(--jp-content-font-color1, black)));\n",
       "  --sklearn-color-icon: #696969;\n",
       "\n",
       "  @media (prefers-color-scheme: dark) {\n",
       "    /* Redefinition of color scheme for dark theme */\n",
       "    --sklearn-color-text-on-default-background: var(--sg-text-color, var(--theme-code-foreground, var(--jp-content-font-color1, white)));\n",
       "    --sklearn-color-background: var(--sg-background-color, var(--theme-background, var(--jp-layout-color0, #111)));\n",
       "    --sklearn-color-border-box: var(--sg-text-color, var(--theme-code-foreground, var(--jp-content-font-color1, white)));\n",
       "    --sklearn-color-icon: #878787;\n",
       "  }\n",
       "}\n",
       "\n",
       "#sk-container-id-1 {\n",
       "  color: var(--sklearn-color-text);\n",
       "}\n",
       "\n",
       "#sk-container-id-1 pre {\n",
       "  padding: 0;\n",
       "}\n",
       "\n",
       "#sk-container-id-1 input.sk-hidden--visually {\n",
       "  border: 0;\n",
       "  clip: rect(1px 1px 1px 1px);\n",
       "  clip: rect(1px, 1px, 1px, 1px);\n",
       "  height: 1px;\n",
       "  margin: -1px;\n",
       "  overflow: hidden;\n",
       "  padding: 0;\n",
       "  position: absolute;\n",
       "  width: 1px;\n",
       "}\n",
       "\n",
       "#sk-container-id-1 div.sk-dashed-wrapped {\n",
       "  border: 1px dashed var(--sklearn-color-line);\n",
       "  margin: 0 0.4em 0.5em 0.4em;\n",
       "  box-sizing: border-box;\n",
       "  padding-bottom: 0.4em;\n",
       "  background-color: var(--sklearn-color-background);\n",
       "}\n",
       "\n",
       "#sk-container-id-1 div.sk-container {\n",
       "  /* jupyter's `normalize.less` sets `[hidden] { display: none; }`\n",
       "     but bootstrap.min.css set `[hidden] { display: none !important; }`\n",
       "     so we also need the `!important` here to be able to override the\n",
       "     default hidden behavior on the sphinx rendered scikit-learn.org.\n",
       "     See: https://github.com/scikit-learn/scikit-learn/issues/21755 */\n",
       "  display: inline-block !important;\n",
       "  position: relative;\n",
       "}\n",
       "\n",
       "#sk-container-id-1 div.sk-text-repr-fallback {\n",
       "  display: none;\n",
       "}\n",
       "\n",
       "div.sk-parallel-item,\n",
       "div.sk-serial,\n",
       "div.sk-item {\n",
       "  /* draw centered vertical line to link estimators */\n",
       "  background-image: linear-gradient(var(--sklearn-color-text-on-default-background), var(--sklearn-color-text-on-default-background));\n",
       "  background-size: 2px 100%;\n",
       "  background-repeat: no-repeat;\n",
       "  background-position: center center;\n",
       "}\n",
       "\n",
       "/* Parallel-specific style estimator block */\n",
       "\n",
       "#sk-container-id-1 div.sk-parallel-item::after {\n",
       "  content: \"\";\n",
       "  width: 100%;\n",
       "  border-bottom: 2px solid var(--sklearn-color-text-on-default-background);\n",
       "  flex-grow: 1;\n",
       "}\n",
       "\n",
       "#sk-container-id-1 div.sk-parallel {\n",
       "  display: flex;\n",
       "  align-items: stretch;\n",
       "  justify-content: center;\n",
       "  background-color: var(--sklearn-color-background);\n",
       "  position: relative;\n",
       "}\n",
       "\n",
       "#sk-container-id-1 div.sk-parallel-item {\n",
       "  display: flex;\n",
       "  flex-direction: column;\n",
       "}\n",
       "\n",
       "#sk-container-id-1 div.sk-parallel-item:first-child::after {\n",
       "  align-self: flex-end;\n",
       "  width: 50%;\n",
       "}\n",
       "\n",
       "#sk-container-id-1 div.sk-parallel-item:last-child::after {\n",
       "  align-self: flex-start;\n",
       "  width: 50%;\n",
       "}\n",
       "\n",
       "#sk-container-id-1 div.sk-parallel-item:only-child::after {\n",
       "  width: 0;\n",
       "}\n",
       "\n",
       "/* Serial-specific style estimator block */\n",
       "\n",
       "#sk-container-id-1 div.sk-serial {\n",
       "  display: flex;\n",
       "  flex-direction: column;\n",
       "  align-items: center;\n",
       "  background-color: var(--sklearn-color-background);\n",
       "  padding-right: 1em;\n",
       "  padding-left: 1em;\n",
       "}\n",
       "\n",
       "\n",
       "/* Toggleable style: style used for estimator/Pipeline/ColumnTransformer box that is\n",
       "clickable and can be expanded/collapsed.\n",
       "- Pipeline and ColumnTransformer use this feature and define the default style\n",
       "- Estimators will overwrite some part of the style using the `sk-estimator` class\n",
       "*/\n",
       "\n",
       "/* Pipeline and ColumnTransformer style (default) */\n",
       "\n",
       "#sk-container-id-1 div.sk-toggleable {\n",
       "  /* Default theme specific background. It is overwritten whether we have a\n",
       "  specific estimator or a Pipeline/ColumnTransformer */\n",
       "  background-color: var(--sklearn-color-background);\n",
       "}\n",
       "\n",
       "/* Toggleable label */\n",
       "#sk-container-id-1 label.sk-toggleable__label {\n",
       "  cursor: pointer;\n",
       "  display: block;\n",
       "  width: 100%;\n",
       "  margin-bottom: 0;\n",
       "  padding: 0.5em;\n",
       "  box-sizing: border-box;\n",
       "  text-align: center;\n",
       "}\n",
       "\n",
       "#sk-container-id-1 label.sk-toggleable__label-arrow:before {\n",
       "  /* Arrow on the left of the label */\n",
       "  content: \"▸\";\n",
       "  float: left;\n",
       "  margin-right: 0.25em;\n",
       "  color: var(--sklearn-color-icon);\n",
       "}\n",
       "\n",
       "#sk-container-id-1 label.sk-toggleable__label-arrow:hover:before {\n",
       "  color: var(--sklearn-color-text);\n",
       "}\n",
       "\n",
       "/* Toggleable content - dropdown */\n",
       "\n",
       "#sk-container-id-1 div.sk-toggleable__content {\n",
       "  max-height: 0;\n",
       "  max-width: 0;\n",
       "  overflow: hidden;\n",
       "  text-align: left;\n",
       "  /* unfitted */\n",
       "  background-color: var(--sklearn-color-unfitted-level-0);\n",
       "}\n",
       "\n",
       "#sk-container-id-1 div.sk-toggleable__content.fitted {\n",
       "  /* fitted */\n",
       "  background-color: var(--sklearn-color-fitted-level-0);\n",
       "}\n",
       "\n",
       "#sk-container-id-1 div.sk-toggleable__content pre {\n",
       "  margin: 0.2em;\n",
       "  border-radius: 0.25em;\n",
       "  color: var(--sklearn-color-text);\n",
       "  /* unfitted */\n",
       "  background-color: var(--sklearn-color-unfitted-level-0);\n",
       "}\n",
       "\n",
       "#sk-container-id-1 div.sk-toggleable__content.fitted pre {\n",
       "  /* unfitted */\n",
       "  background-color: var(--sklearn-color-fitted-level-0);\n",
       "}\n",
       "\n",
       "#sk-container-id-1 input.sk-toggleable__control:checked~div.sk-toggleable__content {\n",
       "  /* Expand drop-down */\n",
       "  max-height: 200px;\n",
       "  max-width: 100%;\n",
       "  overflow: auto;\n",
       "}\n",
       "\n",
       "#sk-container-id-1 input.sk-toggleable__control:checked~label.sk-toggleable__label-arrow:before {\n",
       "  content: \"▾\";\n",
       "}\n",
       "\n",
       "/* Pipeline/ColumnTransformer-specific style */\n",
       "\n",
       "#sk-container-id-1 div.sk-label input.sk-toggleable__control:checked~label.sk-toggleable__label {\n",
       "  color: var(--sklearn-color-text);\n",
       "  background-color: var(--sklearn-color-unfitted-level-2);\n",
       "}\n",
       "\n",
       "#sk-container-id-1 div.sk-label.fitted input.sk-toggleable__control:checked~label.sk-toggleable__label {\n",
       "  background-color: var(--sklearn-color-fitted-level-2);\n",
       "}\n",
       "\n",
       "/* Estimator-specific style */\n",
       "\n",
       "/* Colorize estimator box */\n",
       "#sk-container-id-1 div.sk-estimator input.sk-toggleable__control:checked~label.sk-toggleable__label {\n",
       "  /* unfitted */\n",
       "  background-color: var(--sklearn-color-unfitted-level-2);\n",
       "}\n",
       "\n",
       "#sk-container-id-1 div.sk-estimator.fitted input.sk-toggleable__control:checked~label.sk-toggleable__label {\n",
       "  /* fitted */\n",
       "  background-color: var(--sklearn-color-fitted-level-2);\n",
       "}\n",
       "\n",
       "#sk-container-id-1 div.sk-label label.sk-toggleable__label,\n",
       "#sk-container-id-1 div.sk-label label {\n",
       "  /* The background is the default theme color */\n",
       "  color: var(--sklearn-color-text-on-default-background);\n",
       "}\n",
       "\n",
       "/* On hover, darken the color of the background */\n",
       "#sk-container-id-1 div.sk-label:hover label.sk-toggleable__label {\n",
       "  color: var(--sklearn-color-text);\n",
       "  background-color: var(--sklearn-color-unfitted-level-2);\n",
       "}\n",
       "\n",
       "/* Label box, darken color on hover, fitted */\n",
       "#sk-container-id-1 div.sk-label.fitted:hover label.sk-toggleable__label.fitted {\n",
       "  color: var(--sklearn-color-text);\n",
       "  background-color: var(--sklearn-color-fitted-level-2);\n",
       "}\n",
       "\n",
       "/* Estimator label */\n",
       "\n",
       "#sk-container-id-1 div.sk-label label {\n",
       "  font-family: monospace;\n",
       "  font-weight: bold;\n",
       "  display: inline-block;\n",
       "  line-height: 1.2em;\n",
       "}\n",
       "\n",
       "#sk-container-id-1 div.sk-label-container {\n",
       "  text-align: center;\n",
       "}\n",
       "\n",
       "/* Estimator-specific */\n",
       "#sk-container-id-1 div.sk-estimator {\n",
       "  font-family: monospace;\n",
       "  border: 1px dotted var(--sklearn-color-border-box);\n",
       "  border-radius: 0.25em;\n",
       "  box-sizing: border-box;\n",
       "  margin-bottom: 0.5em;\n",
       "  /* unfitted */\n",
       "  background-color: var(--sklearn-color-unfitted-level-0);\n",
       "}\n",
       "\n",
       "#sk-container-id-1 div.sk-estimator.fitted {\n",
       "  /* fitted */\n",
       "  background-color: var(--sklearn-color-fitted-level-0);\n",
       "}\n",
       "\n",
       "/* on hover */\n",
       "#sk-container-id-1 div.sk-estimator:hover {\n",
       "  /* unfitted */\n",
       "  background-color: var(--sklearn-color-unfitted-level-2);\n",
       "}\n",
       "\n",
       "#sk-container-id-1 div.sk-estimator.fitted:hover {\n",
       "  /* fitted */\n",
       "  background-color: var(--sklearn-color-fitted-level-2);\n",
       "}\n",
       "\n",
       "/* Specification for estimator info (e.g. \"i\" and \"?\") */\n",
       "\n",
       "/* Common style for \"i\" and \"?\" */\n",
       "\n",
       ".sk-estimator-doc-link,\n",
       "a:link.sk-estimator-doc-link,\n",
       "a:visited.sk-estimator-doc-link {\n",
       "  float: right;\n",
       "  font-size: smaller;\n",
       "  line-height: 1em;\n",
       "  font-family: monospace;\n",
       "  background-color: var(--sklearn-color-background);\n",
       "  border-radius: 1em;\n",
       "  height: 1em;\n",
       "  width: 1em;\n",
       "  text-decoration: none !important;\n",
       "  margin-left: 1ex;\n",
       "  /* unfitted */\n",
       "  border: var(--sklearn-color-unfitted-level-1) 1pt solid;\n",
       "  color: var(--sklearn-color-unfitted-level-1);\n",
       "}\n",
       "\n",
       ".sk-estimator-doc-link.fitted,\n",
       "a:link.sk-estimator-doc-link.fitted,\n",
       "a:visited.sk-estimator-doc-link.fitted {\n",
       "  /* fitted */\n",
       "  border: var(--sklearn-color-fitted-level-1) 1pt solid;\n",
       "  color: var(--sklearn-color-fitted-level-1);\n",
       "}\n",
       "\n",
       "/* On hover */\n",
       "div.sk-estimator:hover .sk-estimator-doc-link:hover,\n",
       ".sk-estimator-doc-link:hover,\n",
       "div.sk-label-container:hover .sk-estimator-doc-link:hover,\n",
       ".sk-estimator-doc-link:hover {\n",
       "  /* unfitted */\n",
       "  background-color: var(--sklearn-color-unfitted-level-3);\n",
       "  color: var(--sklearn-color-background);\n",
       "  text-decoration: none;\n",
       "}\n",
       "\n",
       "div.sk-estimator.fitted:hover .sk-estimator-doc-link.fitted:hover,\n",
       ".sk-estimator-doc-link.fitted:hover,\n",
       "div.sk-label-container:hover .sk-estimator-doc-link.fitted:hover,\n",
       ".sk-estimator-doc-link.fitted:hover {\n",
       "  /* fitted */\n",
       "  background-color: var(--sklearn-color-fitted-level-3);\n",
       "  color: var(--sklearn-color-background);\n",
       "  text-decoration: none;\n",
       "}\n",
       "\n",
       "/* Span, style for the box shown on hovering the info icon */\n",
       ".sk-estimator-doc-link span {\n",
       "  display: none;\n",
       "  z-index: 9999;\n",
       "  position: relative;\n",
       "  font-weight: normal;\n",
       "  right: .2ex;\n",
       "  padding: .5ex;\n",
       "  margin: .5ex;\n",
       "  width: min-content;\n",
       "  min-width: 20ex;\n",
       "  max-width: 50ex;\n",
       "  color: var(--sklearn-color-text);\n",
       "  box-shadow: 2pt 2pt 4pt #999;\n",
       "  /* unfitted */\n",
       "  background: var(--sklearn-color-unfitted-level-0);\n",
       "  border: .5pt solid var(--sklearn-color-unfitted-level-3);\n",
       "}\n",
       "\n",
       ".sk-estimator-doc-link.fitted span {\n",
       "  /* fitted */\n",
       "  background: var(--sklearn-color-fitted-level-0);\n",
       "  border: var(--sklearn-color-fitted-level-3);\n",
       "}\n",
       "\n",
       ".sk-estimator-doc-link:hover span {\n",
       "  display: block;\n",
       "}\n",
       "\n",
       "/* \"?\"-specific style due to the `<a>` HTML tag */\n",
       "\n",
       "#sk-container-id-1 a.estimator_doc_link {\n",
       "  float: right;\n",
       "  font-size: 1rem;\n",
       "  line-height: 1em;\n",
       "  font-family: monospace;\n",
       "  background-color: var(--sklearn-color-background);\n",
       "  border-radius: 1rem;\n",
       "  height: 1rem;\n",
       "  width: 1rem;\n",
       "  text-decoration: none;\n",
       "  /* unfitted */\n",
       "  color: var(--sklearn-color-unfitted-level-1);\n",
       "  border: var(--sklearn-color-unfitted-level-1) 1pt solid;\n",
       "}\n",
       "\n",
       "#sk-container-id-1 a.estimator_doc_link.fitted {\n",
       "  /* fitted */\n",
       "  border: var(--sklearn-color-fitted-level-1) 1pt solid;\n",
       "  color: var(--sklearn-color-fitted-level-1);\n",
       "}\n",
       "\n",
       "/* On hover */\n",
       "#sk-container-id-1 a.estimator_doc_link:hover {\n",
       "  /* unfitted */\n",
       "  background-color: var(--sklearn-color-unfitted-level-3);\n",
       "  color: var(--sklearn-color-background);\n",
       "  text-decoration: none;\n",
       "}\n",
       "\n",
       "#sk-container-id-1 a.estimator_doc_link.fitted:hover {\n",
       "  /* fitted */\n",
       "  background-color: var(--sklearn-color-fitted-level-3);\n",
       "}\n",
       "</style><div id=\"sk-container-id-1\" class=\"sk-top-container\"><div class=\"sk-text-repr-fallback\"><pre>RandomForestClassifier(random_state=1)</pre><b>In a Jupyter environment, please rerun this cell to show the HTML representation or trust the notebook. <br />On GitHub, the HTML representation is unable to render, please try loading this page with nbviewer.org.</b></div><div class=\"sk-container\" hidden><div class=\"sk-item\"><div class=\"sk-estimator fitted sk-toggleable\"><input class=\"sk-toggleable__control sk-hidden--visually\" id=\"sk-estimator-id-1\" type=\"checkbox\" checked><label for=\"sk-estimator-id-1\" class=\"sk-toggleable__label fitted sk-toggleable__label-arrow fitted\">&nbsp;&nbsp;RandomForestClassifier<a class=\"sk-estimator-doc-link fitted\" rel=\"noreferrer\" target=\"_blank\" href=\"https://scikit-learn.org/1.5/modules/generated/sklearn.ensemble.RandomForestClassifier.html\">?<span>Documentation for RandomForestClassifier</span></a><span class=\"sk-estimator-doc-link fitted\">i<span>Fitted</span></span></label><div class=\"sk-toggleable__content fitted\"><pre>RandomForestClassifier(random_state=1)</pre></div> </div></div></div></div>"
      ],
      "text/plain": [
       "RandomForestClassifier(random_state=1)"
      ]
     },
     "execution_count": 16,
     "metadata": {},
     "output_type": "execute_result"
    }
   ],
   "source": [
    "model = RandomForestClassifier(n_estimators=100, random_state=1)\n",
    "model.fit(X_train, y_train)"
   ]
  },
  {
   "cell_type": "markdown",
   "id": "1f0c9a0d-eb14-4294-be83-1942480074b6",
   "metadata": {},
   "source": [
    "##### c. Évaluer les performances du modèle\\\n",
    "##### Prédictions"
   ]
  },
  {
   "cell_type": "code",
   "execution_count": 17,
   "id": "1d42a7c0-a2b7-4b15-8aca-6444520647d0",
   "metadata": {},
   "outputs": [
    {
     "name": "stdout",
     "output_type": "stream",
     "text": [
      "Accuracy: 0.776536312849162\n",
      "Precision: 0.7796610169491526\n",
      "Recall: 0.6301369863013698\n",
      "Confusion Matrix:\n",
      " [[93 13]\n",
      " [27 46]]\n"
     ]
    }
   ],
   "source": [
    "y_pred = model.predict(X_test)\n",
    "\n",
    "# Évaluation\n",
    "print('Accuracy:', accuracy_score(y_test, y_pred))\n",
    "print('Precision:', precision_score(y_test, y_pred))\n",
    "print('Recall:', recall_score(y_test, y_pred))\n",
    "print('Confusion Matrix:\\n', confusion_matrix(y_test, y_pred))\n"
   ]
  },
  {
   "cell_type": "markdown",
   "id": "ff97fe02",
   "metadata": {},
   "source": [
    "##### Interprétaton\n",
    "L’exactitude globale est d’environ 77,65 %, ce qui signifie que près de 78 % des prédictions du modèle sont correctes, toutes classes confondues.\n",
    "\n",
    "La précision indique que environ 77,97 % des individus que le modèle a prédits comme positifs (classe 1) sont effectivement positifs. C’est une mesure importante lorsque le coût des faux positifs est élevé, par exemple dans le cas d’un modèle de détection.\n",
    "\n",
    "Le rappel signifie que 63,01 % des vrais positifs ont été correctement identifiés par le modèle. Il y a donc environ 37 % de faux négatifs, ce qui peut être problématique si l'on cherche à minimiser les omissions."
   ]
  },
  {
   "cell_type": "markdown",
   "id": "4f554914-848b-402c-ba16-1f99aa264d05",
   "metadata": {},
   "source": [
    "#### 4. Interprétation des résultats\n",
    "#####  a. Identifions les variables les plus importantes dans la prédiction"
   ]
  },
  {
   "cell_type": "code",
   "execution_count": 18,
   "id": "da5333e6-4822-4c40-a725-6d88215f4a68",
   "metadata": {},
   "outputs": [
    {
     "name": "stdout",
     "output_type": "stream",
     "text": [
      "    Feature  Importance\n",
      "1       Sex    0.261534\n",
      "2       Age    0.259528\n",
      "5      Fare    0.256661\n",
      "0    Pclass    0.094179\n",
      "3     SibSp    0.048537\n",
      "4     Parch    0.042416\n",
      "6  Embarked    0.037145\n"
     ]
    }
   ],
   "source": [
    "importances = model.feature_importances_\n",
    "feature_names = X.columns\n",
    "feature_importances = pd.DataFrame({'Feature': feature_names, 'Importance': importances})\n",
    "feature_importances = feature_importances.sort_values(by='Importance', ascending=False)\n",
    "print(feature_importances)\n"
   ]
  },
  {
   "cell_type": "markdown",
   "id": "06ba3649",
   "metadata": {},
   "source": [
    "#####  Interprétaton\n",
    "Le tableau présente les poids relatifs (importances) attribués aux variables explicatives dans le cadre d’un modèle supervisé visant à prédire la survie des passagers du Titanic. Ces importances traduisent l’impact moyen de chaque variable sur les décisions du modèle, en fonction de la réduction d’impureté"
   ]
  },
  {
   "cell_type": "markdown",
   "id": "3d9934f1-8ac2-469b-b491-524a5c8dafd4",
   "metadata": {},
   "source": [
    "##### b. Interprétons les résultats et proposer des améliorations possibles du modèle\n",
    "\n",
    "Les variables les plus importantes sont le sexe l'âge et le tarif du billet (Fare).\n",
    "\n",
    "Pour améliorer le modèle, on pourrait essayer d'autres algorithmes de classification, ajuster les hyperparamètres, ou ajouter des interactions entre les variables."
   ]
  },
  {
   "cell_type": "markdown",
   "id": "a0dc78d2-7b5d-4e33-8fad-425c3bfcaf93",
   "metadata": {},
   "source": [
    "#### 5. Extension possible (optionnel) : Comparons les modèles régression logistique, arbre de decision\n",
    "\n",
    "##### Imputation des valeurs manquantes"
   ]
  },
  {
   "cell_type": "code",
   "execution_count": 19,
   "id": "d4cd7300-4371-4cdc-85a3-dc24cedcea55",
   "metadata": {
    "scrolled": true
   },
   "outputs": [],
   "source": [
    "imputer = SimpleImputer(strategy='mean')\n",
    "X_train_imputed = imputer.fit_transform(X_train)\n",
    "X_test_imputed = imputer.transform(X_test)"
   ]
  },
  {
   "cell_type": "markdown",
   "id": "534a67a0-a1df-4859-9887-42645d045b8e",
   "metadata": {},
   "source": [
    "##### Régression logistique"
   ]
  },
  {
   "cell_type": "code",
   "execution_count": 20,
   "id": "621d5ba2-e43d-4b96-94d0-2f8ea243ba3a",
   "metadata": {
    "scrolled": true
   },
   "outputs": [],
   "source": [
    "log_model = LogisticRegression(random_state=1)\n",
    "log_model.fit(X_train_imputed, y_train)\n",
    "log_pred = log_model.predict(X_test_imputed)"
   ]
  },
  {
   "cell_type": "markdown",
   "id": "6222b90c-a3c7-4373-9a53-12371eeb8b06",
   "metadata": {},
   "source": [
    "##### Arbre de décision"
   ]
  },
  {
   "cell_type": "code",
   "execution_count": 21,
   "id": "3e670666-f875-48c2-b990-22d751aa0676",
   "metadata": {},
   "outputs": [],
   "source": [
    "tree_model = DecisionTreeClassifier(random_state=1)\n",
    "tree_model.fit(X_train_imputed, y_train)\n",
    "tree_pred = tree_model.predict(X_test_imputed)"
   ]
  },
  {
   "cell_type": "markdown",
   "id": "9bfb339e-fe88-48be-a799-c1ba5e23f88a",
   "metadata": {},
   "source": [
    "##### Évaluation des modèles : affichages des résultats"
   ]
  },
  {
   "cell_type": "code",
   "execution_count": 22,
   "id": "b834706e-ab43-44cb-8100-4cbcff1e8316",
   "metadata": {},
   "outputs": [
    {
     "name": "stdout",
     "output_type": "stream",
     "text": [
      "Logistic Regression Accuracy: 0.7988826815642458\n",
      "Decision Tree Accuracy: 0.7541899441340782\n"
     ]
    }
   ],
   "source": [
    "print('Logistic Regression Accuracy:', accuracy_score(y_test, log_pred))\n",
    "print('Decision Tree Accuracy:', accuracy_score(y_test, tree_pred))"
   ]
  },
  {
   "cell_type": "markdown",
   "id": "4d30d0a1",
   "metadata": {},
   "source": [
    "##### Interprétation\n",
    "Ce modèle atteint près de 80 % de bonnes prédictions, ce qui reflète une performance satisfaisante. La régression logistique, en tant que modèle linéaire, est bien adaptée à des problèmes de classification binaire lorsque les relations entre les variables sont relativement simples.\n",
    "\n",
    "L’arbre de décision obtient une exactitude de 75,4 %, soit environ 4,5 points de moins que la régression logistique. Cela peut s’expliquer par une tendance au surapprentissage sur les données d'entraînement, fréquente dans les arbres si la profondeur n’est pas bien contrôlée."
   ]
  },
  {
   "cell_type": "markdown",
   "id": "a9e6c451-93bd-4468-a9ed-40293a989383",
   "metadata": {},
   "source": [
    "##### b. Testons une validation croisée"
   ]
  },
  {
   "cell_type": "code",
   "execution_count": 23,
   "id": "e20f282b-33c7-4817-9916-79d5d8a15f0e",
   "metadata": {},
   "outputs": [],
   "source": [
    "# Importons le module cross_val_score de la bibliothèque scikit-learn\n",
    "from sklearn.model_selection import cross_val_score"
   ]
  },
  {
   "cell_type": "markdown",
   "id": "7ba0c8ae-d390-4190-9ee4-98c2ab3ea4c4",
   "metadata": {},
   "source": [
    "##### Validation croisée pour la forêt aléatoire"
   ]
  },
  {
   "cell_type": "code",
   "execution_count": 24,
   "id": "bc0ddf85-d432-4697-ae15-7b7a0120f85a",
   "metadata": {},
   "outputs": [
    {
     "name": "stdout",
     "output_type": "stream",
     "text": [
      "Cross-validated scores: [0.78212291 0.81460674 0.84831461 0.76404494 0.84269663]\n",
      "Mean cross-validated score: 0.8103571652752495\n"
     ]
    }
   ],
   "source": [
    "cv_scores = cross_val_score(model, X, y, cv=5)\n",
    "print('Cross-validated scores:', cv_scores)\n",
    "print('Mean cross-validated score:', cv_scores.mean())\n"
   ]
  },
  {
   "cell_type": "markdown",
   "id": "fb0be4b7",
   "metadata": {},
   "source": [
    "##### Interprétation\n",
    "Cette distribution est globalement homogène, avec des valeurs comprises entre 0,764 et 0,848. La variabilité est modérée, ce qui indique que le modèle est stable et peu sensible à la composition des sous-échantillons utilisés lors de la validation.\n",
    "\n",
    "La moyenne des scores atteint 0,810, soit environ 81 % d’exactitude, ce qui confirme la bonne capacité généralisatrice du modèle. Cette performance est cohérente avec les résultats obtenus précédemment sur l’échantillon test."
   ]
  }
 ],
 "metadata": {
  "kernelspec": {
   "display_name": "Python [conda env:base] *",
   "language": "python",
   "name": "conda-base-py"
  },
  "language_info": {
   "codemirror_mode": {
    "name": "ipython",
    "version": 3
   },
   "file_extension": ".py",
   "mimetype": "text/x-python",
   "name": "python",
   "nbconvert_exporter": "python",
   "pygments_lexer": "ipython3",
   "version": "3.12.7"
  }
 },
 "nbformat": 4,
 "nbformat_minor": 5
}
